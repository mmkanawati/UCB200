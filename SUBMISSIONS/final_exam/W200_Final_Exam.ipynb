{
 "cells": [
  {
   "cell_type": "markdown",
   "metadata": {
    "id": "DQg2BdFIg7TM"
   },
   "source": [
    "# W200 Introduction to Data Science Programming, UC Berkeley MIDS\n",
    "\n",
    "\n",
    "## Instructions\n",
    "The final exam is designed to evaluate your grasp of Python theory as well as Python coding.\n",
    "\n",
    "- This is an individual exam.\n",
    "- You have 48 hours to complete the exam, starting from the point at which you first access it.\n",
    "- You will be graded on the quality of your answers.  Use clear, persuasive arguments based on concepts we covered in class.\n",
    "- Please double-click the markdown cells where it says \"Your answer here\" to input answers (if you need more cells please make them markdown cells)\n",
    "- Use only Python standard libraries, matplotlib, seaborn, NumPy and Pandas for this exam\n",
    "- Upload your exam to gradescope and your github repo in the folder /SUBMISSIONS/final_exam/. **The code version uploaded to Part 2 will be your official version for grading purposes.**\n",
    "- There is no autograder for this notebook - your exam will be manually graded.\n",
    "- Please restart and run all cells before submitting so that all of your answers are shown. You do not need to upload the dataset into gradescope or github."
   ]
  },
  {
   "cell_type": "markdown",
   "metadata": {
    "id": "hfJDE2HWg7TT"
   },
   "source": [
    "## YOUR NAME HERE"
   ]
  },
  {
   "cell_type": "markdown",
   "metadata": {
    "id": "Dxxzo-O4g7TU"
   },
   "source": [
    "## 1: Short Answer Questions (25 pts - each question = 5 pts)\n",
    "\n",
    "a) The following class ```Cart``` and method ```add_to_cart``` are parts of a larger program used by a mobile phone company.  The method ```add_to_cart``` will work when an object of type MobileDevice or of type ServiceContract is passed to it. State whether the method ```add_to_cart``` is a demonstration of the following items (yes/no) and the reasoning (1-2 sentences): \n",
    "\n",
    "    1. Inheritance\n",
    "    2. Polymorphism\n",
    "    3. Object-Oriented programming\n",
    "    4. Top-down design\n",
    "    5. Functional programming"
   ]
  },
  {
   "cell_type": "code",
   "execution_count": 1,
   "metadata": {
    "id": "okLhQLwfg7TV"
   },
   "outputs": [],
   "source": [
    "# Method:\n",
    "class Cart():\n",
    "    \n",
    "    def __init__(self):\n",
    "        self.cart = []\n",
    "        self.total = 0\n",
    "    \n",
    "    def add_to_cart(self, item):\n",
    "        self.cart.append(item)\n",
    "        self.total += item.price"
   ]
  },
  {
   "cell_type": "markdown",
   "metadata": {
    "id": "syKK8Dj_g7Ta"
   },
   "source": [
    "- a) Your answer here\n",
    "\n",
    "\n",
    "1. Inheritance: No, the method itself doesn't directly demonstrate inheritance since there are no other class it inherits it from\n",
    "2. Polymorphism: Yes, the method demonstrates polymorphism by accepting different types of objects and invoking the appropriate behavior based on the type of the object passed like item.price\n",
    "3. Object-Oriented programming: Yes, the Cart() class contains the method which exhibits principles of object oriented programming\n",
    "4. Top-down design: No not really, a top-down involves breaking down a system into smaller parts to make it more managable\n",
    "5. Functional programming: No, functional programming avoides mutable state and side effects but the method modifies the self.cart and self.total"
   ]
  },
  {
   "cell_type": "markdown",
   "metadata": {
    "id": "JdTWk7xZg7Ta"
   },
   "source": [
    "b) Suppose you have a long list of digits (0-9) that you want to write to a file.  From a storage standpoint, would it be more efficient to use ASCII or UTF-8 as an encoding? What is the most efficient way to create an even smaller file to store the information?"
   ]
  },
  {
   "cell_type": "markdown",
   "metadata": {
    "id": "UDRs-eIxg7Tb"
   },
   "source": [
    "- b) ASCII, we can use 7 bits to encode characters, including digits 0-9 which are represented by byte values. So each digit will occupy 1 byte. Compression will be a way to create an even smaller file. Compression algorithms can reduce the size of the file by encoding repetitive or redundant patterns more efficiently"
   ]
  },
  {
   "cell_type": "markdown",
   "metadata": {
    "id": "RMIrgGNjg7Tc"
   },
   "source": [
    "c) How would you sanity-check your data? Why is it important to sanity-check your data before you begin your analysis? What could happen if you don't?"
   ]
  },
  {
   "cell_type": "markdown",
   "metadata": {
    "collapsed": true,
    "id": "errKkCYQg7Td"
   },
   "source": [
    "- c) Check data types, look for missing values, examine range and distribution, validate unique data, cross-validate, visualize data and verify data integrity. Helps you identify data quality issues, avoids biased or inaccurate conclusions, and saves time. If you dont do sanity-check to your data, you could have incorrect analysis, an ineffective decision making and wasted time/resources"
   ]
  },
  {
   "cell_type": "markdown",
   "metadata": {
    "id": "pY3aAxV-g7Te"
   },
   "source": [
    "d) How do you determine which variables in your dataset you should check for issues prior to starting an analysis? "
   ]
  },
  {
   "cell_type": "markdown",
   "metadata": {
    "collapsed": true,
    "id": "doSOqeqog7Te"
   },
   "source": [
    "- d) Understand the variables you have, consider your analysis goals, data completeness, and data consistency"
   ]
  },
  {
   "cell_type": "markdown",
   "metadata": {
    "id": "GQjhe5avg7Tf"
   },
   "source": [
    "e1) Explain why the following code prints what it does."
   ]
  },
  {
   "cell_type": "code",
   "execution_count": 2,
   "metadata": {
    "id": "j2cQqWirg7Tg"
   },
   "outputs": [
    {
     "name": "stdout",
     "output_type": "stream",
     "text": [
      "<class 'function'>\n"
     ]
    }
   ],
   "source": [
    "def g(): pass\n",
    "print(type(g))"
   ]
  },
  {
   "cell_type": "markdown",
   "metadata": {
    "id": "YOrDq07ag7Th"
   },
   "source": [
    "- e1) The type function is used to determine the type of object passed through which in this case is just the function reference g, not calling the function but just passing it. So when printed, the type of g is a function"
   ]
  },
  {
   "cell_type": "markdown",
   "metadata": {
    "id": "MAs1nQZ_g7Th"
   },
   "source": [
    "e2) Explain why the following code prints something different."
   ]
  },
  {
   "cell_type": "code",
   "execution_count": 3,
   "metadata": {
    "id": "1b49c_4Ag7Ti"
   },
   "outputs": [
    {
     "name": "stdout",
     "output_type": "stream",
     "text": [
      "<class 'NoneType'>\n"
     ]
    }
   ],
   "source": [
    "def g(): pass\n",
    "print(type(g()))"
   ]
  },
  {
   "cell_type": "markdown",
   "metadata": {
    "id": "9jBjkguyg7Tj"
   },
   "source": [
    "- e2) The function g() is called, and since it contains only the pass statement which does nothing, it completes execution without producing any return value. When a function does not return a value, it returns None. The type function is called on None which returns the class NoneType"
   ]
  },
  {
   "cell_type": "markdown",
   "metadata": {
    "id": "jtHAe_5Pg7Tj"
   },
   "source": [
    "## 2:  General Coding Questions (15 pts - each question 5 pts)"
   ]
  },
  {
   "cell_type": "markdown",
   "metadata": {
    "id": "2EAQnoKwg7Tj"
   },
   "source": [
    "a) Using a dictionary comprehension, make a dictionary with the keys being the lowercase vowels (aeiou) and the values being the number of vowels in the example_text (case insensitive). Fill in a dictionary comprehension below so that we get this desired output.\n",
    "\n",
    "```\n",
    "example_text = 'Outlook is bright!'\n",
    "```\n",
    "\n",
    "expected output:\n",
    "```\n",
    "{'i': 2, 'o': 3, 'u': 1}\n",
    "\n",
    "or\n",
    "\n",
    "{'a': 0, 'e': 0, 'i': 2, 'o': 3, 'u': 1}\n",
    "```"
   ]
  },
  {
   "cell_type": "code",
   "execution_count": 4,
   "metadata": {
    "id": "yT_f_hhgg7Tk"
   },
   "outputs": [
    {
     "name": "stdout",
     "output_type": "stream",
     "text": [
      "{'a': 0, 'e': 1, 'i': 3, 'o': 3, 'u': 0}\n"
     ]
    }
   ],
   "source": [
    "example_text = \"I love coding in python!\"\n",
    "\n",
    "\n",
    "# 2a) Your code here\n",
    "vowel_counts = {vowel: example_text.lower().count(vowel) for vowel in 'aeiou'}\n",
    "print(vowel_counts)"
   ]
  },
  {
   "cell_type": "markdown",
   "metadata": {
    "id": "j5v3mwmVg7Tk"
   },
   "source": [
    "b) Below is a data frame of customers that have different cooling systems. Your data science team lead wants the column ```cooling_system``` to be labeled with the integer numbers 1-4 instead of the text as shown below:\n",
    "\n",
    "- 1 = Air Conditioning / Air Con / AC\n",
    "- 2 = Heat Pump / HP\n",
    "- 3 = Evaporative Cooler / EvapCooler / EC\n",
    "- 4 = Fan\n",
    "\n",
    "Make a new column called ```cooling_type``` that maps the text values to the new numeric values. Filter out / remove rows with the values that are not included in the mapping above. Print out/display this new data frame. Be sure to list any assumptions also!"
   ]
  },
  {
   "cell_type": "code",
   "execution_count": 5,
   "metadata": {
    "id": "61EFcCtbg7Tl"
   },
   "outputs": [
    {
     "data": {
      "text/html": [
       "<div>\n",
       "<style scoped>\n",
       "    .dataframe tbody tr th:only-of-type {\n",
       "        vertical-align: middle;\n",
       "    }\n",
       "\n",
       "    .dataframe tbody tr th {\n",
       "        vertical-align: top;\n",
       "    }\n",
       "\n",
       "    .dataframe thead th {\n",
       "        text-align: right;\n",
       "    }\n",
       "</style>\n",
       "<table border=\"1\" class=\"dataframe\">\n",
       "  <thead>\n",
       "    <tr style=\"text-align: right;\">\n",
       "      <th></th>\n",
       "      <th>Cust_Number</th>\n",
       "      <th>Cooling_System</th>\n",
       "    </tr>\n",
       "  </thead>\n",
       "  <tbody>\n",
       "    <tr>\n",
       "      <th>0</th>\n",
       "      <td>101</td>\n",
       "      <td>AC</td>\n",
       "    </tr>\n",
       "    <tr>\n",
       "      <th>1</th>\n",
       "      <td>102</td>\n",
       "      <td>Heat Pump</td>\n",
       "    </tr>\n",
       "    <tr>\n",
       "      <th>2</th>\n",
       "      <td>103</td>\n",
       "      <td>Air Con</td>\n",
       "    </tr>\n",
       "    <tr>\n",
       "      <th>3</th>\n",
       "      <td>104</td>\n",
       "      <td>Air Conditioning</td>\n",
       "    </tr>\n",
       "    <tr>\n",
       "      <th>4</th>\n",
       "      <td>105</td>\n",
       "      <td>Fan</td>\n",
       "    </tr>\n",
       "    <tr>\n",
       "      <th>5</th>\n",
       "      <td>106</td>\n",
       "      <td>None</td>\n",
       "    </tr>\n",
       "    <tr>\n",
       "      <th>6</th>\n",
       "      <td>107</td>\n",
       "      <td>EvapCooler</td>\n",
       "    </tr>\n",
       "    <tr>\n",
       "      <th>7</th>\n",
       "      <td>108</td>\n",
       "      <td>None</td>\n",
       "    </tr>\n",
       "    <tr>\n",
       "      <th>8</th>\n",
       "      <td>109</td>\n",
       "      <td>EC</td>\n",
       "    </tr>\n",
       "    <tr>\n",
       "      <th>9</th>\n",
       "      <td>110</td>\n",
       "      <td>Evaporative Cooler</td>\n",
       "    </tr>\n",
       "    <tr>\n",
       "      <th>10</th>\n",
       "      <td>111</td>\n",
       "      <td>geothermal</td>\n",
       "    </tr>\n",
       "    <tr>\n",
       "      <th>11</th>\n",
       "      <td>112</td>\n",
       "      <td>8</td>\n",
       "    </tr>\n",
       "    <tr>\n",
       "      <th>12</th>\n",
       "      <td>113</td>\n",
       "      <td>Air Con</td>\n",
       "    </tr>\n",
       "  </tbody>\n",
       "</table>\n",
       "</div>"
      ],
      "text/plain": [
       "    Cust_Number      Cooling_System\n",
       "0           101                  AC\n",
       "1           102           Heat Pump\n",
       "2           103             Air Con\n",
       "3           104    Air Conditioning\n",
       "4           105                 Fan\n",
       "5           106                None\n",
       "6           107          EvapCooler\n",
       "7           108                None\n",
       "8           109                  EC\n",
       "9           110  Evaporative Cooler\n",
       "10          111          geothermal\n",
       "11          112                   8\n",
       "12          113             Air Con"
      ]
     },
     "execution_count": 5,
     "metadata": {},
     "output_type": "execute_result"
    }
   ],
   "source": [
    "import pandas\n",
    "\n",
    "# creating a data frame from scratch - list of lists\n",
    "\n",
    "data = [ \n",
    "         [101, 'AC'], \n",
    "         [102, 'Heat Pump'], \n",
    "         [103, 'Air Con'], \n",
    "         [104, 'Air Conditioning'],\n",
    "         [105, 'Fan'],\n",
    "         [106, 'None'],\n",
    "         [107, 'EvapCooler'],\n",
    "         [108, None],\n",
    "         [109, 'EC'],\n",
    "         [110, 'Evaporative Cooler'],\n",
    "         [111, 'geothermal'],\n",
    "         [112, 8],\n",
    "         [113, 'Air Con']\n",
    "       ]\n",
    "\n",
    "# create a data frame with column names - list of lists\n",
    "\n",
    "col_names = ['Cust_Number', 'Cooling_System']\n",
    "df = pandas.DataFrame(data, columns=col_names)\n",
    "df"
   ]
  },
  {
   "cell_type": "code",
   "execution_count": 6,
   "metadata": {
    "id": "E3IH8MHwg7Tl"
   },
   "outputs": [
    {
     "data": {
      "text/html": [
       "<div>\n",
       "<style scoped>\n",
       "    .dataframe tbody tr th:only-of-type {\n",
       "        vertical-align: middle;\n",
       "    }\n",
       "\n",
       "    .dataframe tbody tr th {\n",
       "        vertical-align: top;\n",
       "    }\n",
       "\n",
       "    .dataframe thead th {\n",
       "        text-align: right;\n",
       "    }\n",
       "</style>\n",
       "<table border=\"1\" class=\"dataframe\">\n",
       "  <thead>\n",
       "    <tr style=\"text-align: right;\">\n",
       "      <th></th>\n",
       "      <th>Cust_Number</th>\n",
       "      <th>Cooling_System</th>\n",
       "      <th>Cooling_Type</th>\n",
       "    </tr>\n",
       "  </thead>\n",
       "  <tbody>\n",
       "    <tr>\n",
       "      <th>0</th>\n",
       "      <td>101</td>\n",
       "      <td>AC</td>\n",
       "      <td>1.0</td>\n",
       "    </tr>\n",
       "    <tr>\n",
       "      <th>1</th>\n",
       "      <td>102</td>\n",
       "      <td>Heat Pump</td>\n",
       "      <td>2.0</td>\n",
       "    </tr>\n",
       "    <tr>\n",
       "      <th>2</th>\n",
       "      <td>103</td>\n",
       "      <td>Air Con</td>\n",
       "      <td>1.0</td>\n",
       "    </tr>\n",
       "    <tr>\n",
       "      <th>3</th>\n",
       "      <td>104</td>\n",
       "      <td>Air Conditioning</td>\n",
       "      <td>1.0</td>\n",
       "    </tr>\n",
       "    <tr>\n",
       "      <th>4</th>\n",
       "      <td>105</td>\n",
       "      <td>Fan</td>\n",
       "      <td>4.0</td>\n",
       "    </tr>\n",
       "    <tr>\n",
       "      <th>6</th>\n",
       "      <td>107</td>\n",
       "      <td>EvapCooler</td>\n",
       "      <td>3.0</td>\n",
       "    </tr>\n",
       "    <tr>\n",
       "      <th>8</th>\n",
       "      <td>109</td>\n",
       "      <td>EC</td>\n",
       "      <td>3.0</td>\n",
       "    </tr>\n",
       "    <tr>\n",
       "      <th>9</th>\n",
       "      <td>110</td>\n",
       "      <td>Evaporative Cooler</td>\n",
       "      <td>3.0</td>\n",
       "    </tr>\n",
       "    <tr>\n",
       "      <th>12</th>\n",
       "      <td>113</td>\n",
       "      <td>Air Con</td>\n",
       "      <td>1.0</td>\n",
       "    </tr>\n",
       "  </tbody>\n",
       "</table>\n",
       "</div>"
      ],
      "text/plain": [
       "    Cust_Number      Cooling_System  Cooling_Type\n",
       "0           101                  AC           1.0\n",
       "1           102           Heat Pump           2.0\n",
       "2           103             Air Con           1.0\n",
       "3           104    Air Conditioning           1.0\n",
       "4           105                 Fan           4.0\n",
       "6           107          EvapCooler           3.0\n",
       "8           109                  EC           3.0\n",
       "9           110  Evaporative Cooler           3.0\n",
       "12          113             Air Con           1.0"
      ]
     },
     "execution_count": 6,
     "metadata": {},
     "output_type": "execute_result"
    }
   ],
   "source": [
    "# 2b) Your code here\n",
    "mapping = {\n",
    "    'Air Conditioning': 1, 'Air Con': 1, 'AC': 1,\n",
    "    'Heat Pump': 2, 'HP': 2,\n",
    "    'Evaporative Cooler': 3, 'EvapCooler': 3, 'EC': 3,\n",
    "    'Fan': 4}\n",
    "\n",
    "def map_cooling_system(system):\n",
    "    if system in mapping:\n",
    "        return mapping[system]\n",
    "    else:\n",
    "        return None\n",
    "\n",
    "df['Cooling_Type'] = df['Cooling_System'].apply(map_cooling_system)\n",
    "\n",
    "valid_cooling_types = set(mapping.values())\n",
    "df = df[df['Cooling_Type'].isin(valid_cooling_types)]\n",
    "\n",
    "df"
   ]
  },
  {
   "cell_type": "markdown",
   "metadata": {
    "id": "LzguKp3Rg7Tm"
   },
   "source": [
    "c) From the dataframe below, use groupby in Pandas to show how many total delegates were obtained grouped by state. Print this out."
   ]
  },
  {
   "cell_type": "code",
   "execution_count": 7,
   "metadata": {
    "id": "SBKSw6hsg7Tm"
   },
   "outputs": [
    {
     "data": {
      "text/html": [
       "<div>\n",
       "<style scoped>\n",
       "    .dataframe tbody tr th:only-of-type {\n",
       "        vertical-align: middle;\n",
       "    }\n",
       "\n",
       "    .dataframe tbody tr th {\n",
       "        vertical-align: top;\n",
       "    }\n",
       "\n",
       "    .dataframe thead th {\n",
       "        text-align: right;\n",
       "    }\n",
       "</style>\n",
       "<table border=\"1\" class=\"dataframe\">\n",
       "  <thead>\n",
       "    <tr style=\"text-align: right;\">\n",
       "      <th></th>\n",
       "      <th>name</th>\n",
       "      <th>delegates</th>\n",
       "      <th>color</th>\n",
       "      <th>state</th>\n",
       "    </tr>\n",
       "  </thead>\n",
       "  <tbody>\n",
       "    <tr>\n",
       "      <th>0</th>\n",
       "      <td>marco</td>\n",
       "      <td>165</td>\n",
       "      <td>blue</td>\n",
       "      <td>FL</td>\n",
       "    </tr>\n",
       "    <tr>\n",
       "      <th>1</th>\n",
       "      <td>jeb</td>\n",
       "      <td>35</td>\n",
       "      <td>red</td>\n",
       "      <td>FL</td>\n",
       "    </tr>\n",
       "    <tr>\n",
       "      <th>2</th>\n",
       "      <td>chris</td>\n",
       "      <td>0</td>\n",
       "      <td>white</td>\n",
       "      <td>NY</td>\n",
       "    </tr>\n",
       "    <tr>\n",
       "      <th>3</th>\n",
       "      <td>donald</td>\n",
       "      <td>1543</td>\n",
       "      <td>white</td>\n",
       "      <td>NY</td>\n",
       "    </tr>\n",
       "    <tr>\n",
       "      <th>4</th>\n",
       "      <td>ted</td>\n",
       "      <td>559</td>\n",
       "      <td>blue</td>\n",
       "      <td>NY</td>\n",
       "    </tr>\n",
       "    <tr>\n",
       "      <th>5</th>\n",
       "      <td>john</td>\n",
       "      <td>161</td>\n",
       "      <td>red</td>\n",
       "      <td>OH</td>\n",
       "    </tr>\n",
       "  </tbody>\n",
       "</table>\n",
       "</div>"
      ],
      "text/plain": [
       "     name  delegates  color state\n",
       "0   marco        165   blue    FL\n",
       "1     jeb         35    red    FL\n",
       "2   chris          0  white    NY\n",
       "3  donald       1543  white    NY\n",
       "4     ted        559   blue    NY\n",
       "5    john        161    red    OH"
      ]
     },
     "execution_count": 7,
     "metadata": {},
     "output_type": "execute_result"
    }
   ],
   "source": [
    "import pandas\n",
    "\n",
    "# creating a data frame from scratch - list of lists\n",
    "\n",
    "data = [ ['marco', 165, 'blue', 'FL'], \n",
    "         ['jeb', 35, 'red', 'FL'], \n",
    "         ['chris', 0, 'white', 'NY'], \n",
    "         ['donald', 1543, 'white', 'NY'],\n",
    "         ['ted', 559, 'blue', 'NY'],\n",
    "         ['john', 161, 'red', 'OH']\n",
    "       ]\n",
    "\n",
    "# create a data frame with column names - list of lists\n",
    "\n",
    "col_names = ['name', 'delegates', 'color', 'state']\n",
    "df = pandas.DataFrame(data, columns=col_names)\n",
    "df"
   ]
  },
  {
   "cell_type": "code",
   "execution_count": 8,
   "metadata": {
    "id": "KNNZmJGUg7To"
   },
   "outputs": [
    {
     "data": {
      "text/html": [
       "<div>\n",
       "<style scoped>\n",
       "    .dataframe tbody tr th:only-of-type {\n",
       "        vertical-align: middle;\n",
       "    }\n",
       "\n",
       "    .dataframe tbody tr th {\n",
       "        vertical-align: top;\n",
       "    }\n",
       "\n",
       "    .dataframe thead th {\n",
       "        text-align: right;\n",
       "    }\n",
       "</style>\n",
       "<table border=\"1\" class=\"dataframe\">\n",
       "  <thead>\n",
       "    <tr style=\"text-align: right;\">\n",
       "      <th></th>\n",
       "      <th>state</th>\n",
       "      <th>delegates</th>\n",
       "    </tr>\n",
       "  </thead>\n",
       "  <tbody>\n",
       "    <tr>\n",
       "      <th>0</th>\n",
       "      <td>FL</td>\n",
       "      <td>200</td>\n",
       "    </tr>\n",
       "    <tr>\n",
       "      <th>1</th>\n",
       "      <td>NY</td>\n",
       "      <td>2102</td>\n",
       "    </tr>\n",
       "    <tr>\n",
       "      <th>2</th>\n",
       "      <td>OH</td>\n",
       "      <td>161</td>\n",
       "    </tr>\n",
       "  </tbody>\n",
       "</table>\n",
       "</div>"
      ],
      "text/plain": [
       "  state  delegates\n",
       "0    FL        200\n",
       "1    NY       2102\n",
       "2    OH        161"
      ]
     },
     "execution_count": 8,
     "metadata": {},
     "output_type": "execute_result"
    }
   ],
   "source": [
    "# 2c) Your code here\n",
    "df.groupby('state')['delegates'].sum().reset_index()"
   ]
  },
  {
   "cell_type": "markdown",
   "metadata": {
    "id": "j0vXNb_Yg7Tp"
   },
   "source": [
    "## 3: Bitcoin coding problem (20 points):"
   ]
  },
  {
   "cell_type": "markdown",
   "metadata": {
    "id": "PWU5dtSEg7Tp"
   },
   "source": [
    "#### Bitcoin\n",
    "\n",
    "Consider a record of a one-time investment in bitcoin with value of that investment tracked monthly, provided as an (ordered) tuple of dictionaries, where each dictionary comprises one key for the month and corresponding one value for the value of the investment as of that date. (For example 31 Jan 2018 was $1200 as shown in `data` below).\n",
    "\n",
    "The initial investment is made on 1 Jan 2018 and was for $1000 (labelled 'Initial' in the `data` below).\n",
    "\n",
    "Fill in the Python function (named `bitcoin_invest` below) to take such a record of any length (the below `data` is only a sample but the full data will be in the same format), and return a dataframe comprising a row for each month with columns for date, balance, and return. **Print out/display this dataframe.**\n",
    "\n",
    "Also, visualize the record as two vertically arranged plots (there are a few ways to do this, keep it consistent over both plots). \n",
    "- The top plot should show a line plot of balance vs. month \n",
    "- The bottom plot should show a bar plot of return vs. month, with a black horizontal line at return=0, and bars color-coded such that positive returns are green and negative returns are red.  \n",
    "- The two plots' horizontal axes should align. Demonstrate that your code works by applying it to `data`.\n",
    "\n",
    "Some definitions: <br>\n",
    "- The gain for each period is the end balance minus the start balance. \n",
    "- The growth factor for each period is the end balance divided by the start balance.  \n",
    "- The return for each period is the growth factor minus 1."
   ]
  },
  {
   "cell_type": "code",
   "execution_count": 9,
   "metadata": {
    "id": "nNyReUHXg7Tp"
   },
   "outputs": [
    {
     "data": {
      "text/plain": [
       "({'Initial': 1000},\n",
       " {'Jan 2018': 1200},\n",
       " {'Feb 2018': 1400},\n",
       " {'Mar 2018': 700},\n",
       " {'Apr 2018': 800},\n",
       " {'May 2018': 500})"
      ]
     },
     "execution_count": 9,
     "metadata": {},
     "output_type": "execute_result"
    }
   ],
   "source": [
    "data = ({\"Initial\": 1000}, {\"Jan 2018\":1200},{\"Feb 2018\":1400},{\"Mar 2018\":700},{\"Apr 2018\":800},{\"May 2018\":500})\n",
    "data"
   ]
  },
  {
   "cell_type": "code",
   "execution_count": 10,
   "metadata": {
    "id": "tqPVdbgkg7Tp"
   },
   "outputs": [],
   "source": [
    "# 3) Your code here\n",
    "import pandas as pd\n",
    "import matplotlib.pyplot as plt\n",
    "import matplotlib.dates as mdates\n",
    "\n",
    "def bitcoin_invest(monthly_data):\n",
    "    dates = []\n",
    "    balances = []\n",
    "    returns = []\n",
    "    \n",
    "    start_balance = None\n",
    "    \n",
    "    # Loop over each dictionary in the monthly_data tuple\n",
    "    for entry in monthly_data:\n",
    "        for month, value in entry.items():\n",
    "            if month == 'Initial':\n",
    "                start_balance = value\n",
    "                dates.append(pd.Timestamp('2018-01-01'))  # Initial investment date\n",
    "                balances.append(start_balance)\n",
    "                returns.append(0.0)  # Return for the initial investment is 0\n",
    "            else:\n",
    "                # Parse month and year from the month string \"Jan 2018\"\n",
    "                month_name, year = month.split()\n",
    "                year = int(year)\n",
    "\n",
    "                date = pd.Timestamp(f'{month_name} {year}')\n",
    "                dates.append(date)\n",
    "                \n",
    "                # Calculate the return and update balance\n",
    "                end_balance = value\n",
    "                gain = end_balance - start_balance\n",
    "                growth_factor = end_balance / start_balance\n",
    "                return_value = growth_factor - 1.0\n",
    "                \n",
    "                balances.append(end_balance)\n",
    "                returns.append(return_value)\n",
    "                \n",
    "                # Update start_balance for the next iteration\n",
    "                start_balance = end_balance\n",
    "                \n",
    "    df = pd.DataFrame({'Date': dates, 'Balance': balances, 'Return': returns})\n",
    "    \n",
    "    fig, (ax1, ax2) = plt.subplots(2, 1, figsize=(10, 8), sharex=True)\n",
    "    \n",
    "    # Line plot of Balance vs. Month\n",
    "    ax1.plot(df['Date'], df['Balance'], marker='o', linestyle='-')\n",
    "    ax1.set_ylabel('Balance')\n",
    "    ax1.set_title('Bitcoin Investment Performance')\n",
    "    \n",
    "    # Bar plot of Return vs. Month\n",
    "    ax2.bar(df['Date'], df['Return'], color=df['Return'].apply(lambda x: 'green' if x >= 0 else 'red'))\n",
    "    ax2.axhline(0, color='black', linewidth=1)\n",
    "    ax2.set_ylabel('Return')\n",
    "    ax2.xaxis.set_major_formatter(mdates.DateFormatter('%b %Y'))\n",
    "    plt.xticks(rotation=45)\n",
    "\n",
    "    plt.tight_layout()\n",
    "    plt.show()\n",
    "    \n",
    "    print(df)"
   ]
  },
  {
   "cell_type": "code",
   "execution_count": 11,
   "metadata": {},
   "outputs": [
    {
     "data": {
      "image/png": "[encoded data removed]",
      "text/plain": [
       "<Figure size 720x576 with 2 Axes>"
      ]
     },
     "metadata": {
      "needs_background": "light"
     },
     "output_type": "display_data"
    },
    {
     "name": "stdout",
     "output_type": "stream",
     "text": [
      "        Date  Balance    Return\n",
      "0 2018-01-01     1000  0.000000\n",
      "1 2018-01-01     1200  0.200000\n",
      "2 2018-02-01     1400  0.166667\n",
      "3 2018-03-01      700 -0.500000\n",
      "4 2018-04-01      800  0.142857\n",
      "5 2018-05-01      500 -0.375000\n"
     ]
    }
   ],
   "source": [
    "bitcoin_invest(data)"
   ]
  },
  {
   "cell_type": "markdown",
   "metadata": {
    "id": "qGnnkRF9g7Tq"
   },
   "source": [
    "## 4: Clinical disease data (40 pts)\n",
    "\n",
    "Your boss comes to you Monday morning and says “I figured out our next step; we are going to pivot from an online craft store and become a data center for genetic disease information! I found **ClinVar** which is a repository that contains expert curated data, and it is free for the taking. This is a gold mine! Look at the file and tell me what gene and mutation combinations are classified as dangerous.”\n",
    "\n",
    "Make sure that you only give your boss the dangerous mutations and include:\n",
    "\n",
    "1) Gene name\n",
    "\n",
    "2) Mutation ID number\n",
    "\n",
    "3) Mutation Position (chromosome & position)\n",
    "\n",
    "4) Mutation value (reference & alternate bases)\n",
    "\n",
    "5) Clinical significance (CLNSIG)\n",
    "\n",
    "6) Disease that is implicated\n",
    "\n",
    "**Requirements**\n",
    "\n",
    "1) The deliverables are the final result as a dataframe with a short discussion of any specifics. (that is, what data you would present to your boss with the explanation of your results)\n",
    "\n",
    "2) Limit your output to the first 100 harmful mutations and tell your boss how many total harmful mutations were found in the file\n",
    "\n",
    "3) Use the instructor-modified \"clinvar_final.txt\" at this link: https://drive.google.com/file/d/1Zps0YssoJbZHrn6iLte2RDLlgruhAX1s/view?usp=sharing This file was modified to be not exactly the same as 'standard' .vcf file to test your data parsing skills. **This is a large file so do NOT upload it into your github repo!**\n",
    "\n",
    "4) Replace missing values in the dataframe with: 'Not_Given'. Print or display this (including the Not_Given count) for the column `CLNSIG` by using pandas value_counts() function (https://pandas.pydata.org/docs/reference/api/pandas.Series.value_counts.html).\n",
    "\n",
    "5) State in your answer how you define harmful mutations\n",
    "\n",
    "**6) Do your best on getting to above requirements and submit whatever you do before the deadline. If your work is incomplete be sure to describe the blockers that got in your way and how you might get past them (if given more time).**\n",
    "\n",
    "7) You can use as many code blocks as you need. Please clean-up your code and make it readable for the graders!\n",
    "\n",
    "**Hints** \n",
    "* We do not expect you to have any medical knowledge to solve this problem; look at the data, read the documentation provided, and write down your assumptions!\n",
    "\n",
    "* Correct pseudocode will give you partial credit so start with that. \n",
    "\n",
    "* Map out which fields you want to extract: Are they in the same place every time? What strategy will you use to robustly extract and filter your data of interest? How do you plan to handle missing data?\n",
    "\n",
    "* A good way to start is to print out each line, then practice parsing them to see if you can recover the fields of interest\n",
    "\n",
    "* A starting solution for parsing .vcfs can be found here: https://gist.github.com/dceoy/99d976a2c01e7f0ba1c813778f9db744 This solution does **NOT** work due to the changes we've made but can be modified to work. As with any solution that needs modifications, it may take less time to make your own solution!\n",
    "\n",
    "* Filter out junk and lines with no mutation data. Just focus on the data your need to deliver to your boss. \n",
    "\n",
    "* Pandas and NumPy parsers correctly recognize the end of each line in in the ClinVar file.\n",
    "\n",
    "* The unit of observation of this dataset is one row per mutation.\n",
    "\n",
    "* This is similar to a task that one of us tackled at work. You can answer the question with the information provided below or using the (partial) data dictionary file at this link: https://drive.google.com/file/d/1lx9yHdlcqmU_OlHiTUXKC_LQDqYBypH_/view?usp=sharing. Our goal is to see that you can put together a sensible plan, implement a solid parsing strategy, and document and justify the decisions that you made."
   ]
  },
  {
   "cell_type": "markdown",
   "metadata": {
    "collapsed": true,
    "id": "vxoh6uLEg7Tr"
   },
   "source": [
    "### VCF file description (Summarized from version 4.1)\n",
    "\n",
    "```\n",
    "* The VCF specification:\n",
    "\n",
    "VCF is a text file format which contains meta-information lines, a header line, and then data lines each containing information about a position in the genome. The format also can contain genotype information on samples for each position.\n",
    "\n",
    "* Fixed fields:\n",
    "\n",
    "There are 8 fixed fields per record. All data lines are **tab-delimited**. In all cases, missing values are specified with a dot (‘.’). \n",
    "\n",
    "1. CHROM - chromosome number\n",
    "2. POS - position DNA nuceleotide count (bases) along the chromosome\n",
    "3. ID - The unique identifier for each mutation\n",
    "4. REF - reference base(s)\n",
    "5. ALT - alternate base(s)\n",
    "6. FILTER - filter status\n",
    "7. QUAL - quality\n",
    "8. INFO - a semicolon-separated series of keys with values in the format: <key>=<data>\n",
    "\n",
    "```\n",
    "### Applicable INFO field specifications\n",
    "\n",
    "```\n",
    "GENEINFO = <Gene name>\n",
    "CLNSIG =  <Clinical significance>\n",
    "CLNDN = <Disease name>\n",
    "```\n",
    "\n",
    "### Sample ClinVar data (vcf file format - not exactly the same as the file to download!)\n",
    "\n",
    "```\n",
    "##fileformat=VCFv4.1\n",
    "##fileDate=2019-03-19\n",
    "##source=ClinVar\n",
    "##reference=GRCh38\t\t\t\t\t\t\t\n",
    "#CHROM\tPOS\tID\tREF\tALT\tQUAL\tFILTER\tINFO\n",
    "1\t949523\trs786201005\tC\tT\t.\t.\tGENEINFO=ISG15;CLNSIG=5\n",
    "1\t949696\trs672601345\tC\tCG\t.\t.\tGENEINFO=ISG15;CLNSIG=5;CLNDN=Cancer\n",
    "1\t949739\trs672601312\tG\tT\t.\t.\tGENEINFO=ISG15;CLNDBN=Cancer\n",
    "1\t955597\trs115173026\tG\tT\t.\t.\tGENEINFO=AGRN;CLNSIG=2; CLNDN=Cancer\n",
    "1\t955619\trs201073369\tG\tC\t.\t.\tGENEINFO=AGG;CLNDN=Heart_dis \n",
    "1\t957640\trs6657048\tC\tT\t.\t.\tGENEINFO=AGG;CLNSIG=3;CLNDN=Heart_dis \n",
    "1\t976059\trs544749044\tC\tT\t.\t.\tGENEINFO=AGG;CLNSIG=0;CLNDN=Heart_dis \n",
    "```"
   ]
  },
  {
   "cell_type": "code",
   "execution_count": 12,
   "metadata": {
    "id": "qPhDns3zg7Tr",
    "scrolled": true
   },
   "outputs": [
    {
     "name": "stdout",
     "output_type": "stream",
     "text": [
      "\n",
      "Value Counts for 'Clinical Significance' (including 'Not_Given'):\n",
      "Uncertain_significance                                                                      47980\n",
      "Likely_benign                                                                               17885\n",
      "Pathogenic                                                                                  12313\n",
      "Likely_pathogenic                                                                            6269\n",
      "Benign                                                                                       6138\n",
      "Conflicting_interpretations_of_pathogenicity                                                 5404\n",
      "Benign/Likely_benign                                                                         3338\n",
      "Not_Given                                                                                    1797\n",
      "Pathogenic/Likely_pathogenic                                                                  854\n",
      "risk_factor                                                                                    98\n",
      "association                                                                                    70\n",
      "drug_response                                                                                  41\n",
      "Affects                                                                                        31\n",
      "Conflicting_interpretations_of_pathogenicity,_risk_factor                                      14\n",
      "other                                                                                          12\n",
      "Pathogenic,_risk_factor                                                                        11\n",
      "Conflicting_interpretations_of_pathogenicity,_other                                             8\n",
      "Pathogenic/Likely_pathogenic,_other                                                             8\n",
      "Benign/Likely_benign,_risk_factor                                                               7\n",
      "Pathogenic/Likely_pathogenic,_risk_factor                                                       6\n",
      "protective                                                                                      6\n",
      "Likely_pathogenic,_risk_factor                                                                  5\n",
      "protective,_risk_factor                                                                         4\n",
      "Pathogenic,_other                                                                               2\n",
      "Pathogenic,_Affects                                                                             2\n",
      "Uncertain_significance,_risk_factor                                                             1\n",
      "Benign/Likely_benign,_protective                                                                1\n",
      "Benign,_other                                                                                   1\n",
      "Conflicting_interpretations_of_pathogenicity,_Affects,_association,_drug_response,_other        1\n",
      "Benign/Likely_benign,_other                                                                     1\n",
      "Pathogenic,_protective                                                                          1\n",
      "Benign/Likely_benign,_association                                                               1\n",
      "Conflicting_interpretations_of_pathogenicity,_Affects                                           1\n",
      "Likely_benign,_other                                                                            1\n",
      "Conflicting_interpretations_of_pathogenicity,_other,_risk_factor                                1\n",
      "Likely_pathogenic,_association                                                                  1\n",
      "Conflicting_interpretations_of_pathogenicity,_Affects,_other                                    1\n",
      "Conflicting_interpretations_of_pathogenicity,_association                                       1\n",
      "Affects,_risk_factor                                                                            1\n",
      "Conflicting_interpretations_of_pathogenicity,_protective                                        1\n",
      "Likely_pathogenic,_other                                                                        1\n",
      "Benign,_drug_response                                                                           1\n",
      "Pathogenic,_association,_protective                                                             1\n",
      "Name: Clinical Significance, dtype: int64\n",
      "\n",
      "Total harmful muations:  102321\n",
      "\n",
      "DataFrame with Dangerous Mutations:\n",
      "    Gene Name Mutation ID Mutation Position   Mutation Value  \\\n",
      "2       ISG15      183381         1:1014143              C>T   \n",
      "8       ISG15      161455         1:1014316             C>CG   \n",
      "9       ISG15      161454         1:1014359              G>T   \n",
      "24       AGRN      243036         1:1022225              G>A   \n",
      "26       AGRN      243037         1:1022313              A>T   \n",
      "..        ...         ...               ...              ...   \n",
      "878     PEX10      550383         1:2406739            GGT>G   \n",
      "881     PEX10      162435         1:2406766              G>A   \n",
      "884     PEX10        6774         1:2406791             C>CT   \n",
      "885     PEX10      557464         1:2406792  TGCAGCCCCATGG>T   \n",
      "895     PEX10      551969         1:2406917            ACT>A   \n",
      "\n",
      "    Clinical Significance                                 Disease Implicated  \n",
      "2              Pathogenic  Immunodeficiency_38_with_basal_ganglia_calcifi...  \n",
      "8              Pathogenic  Immunodeficiency_38_with_basal_ganglia_calcifi...  \n",
      "9              Pathogenic  Immunodeficiency_38_with_basal_ganglia_calcifi...  \n",
      "24             Pathogenic                     Congenital_myasthenic_syndrome  \n",
      "26             Pathogenic                     Congenital_myasthenic_syndrome  \n",
      "..                    ...                                                ...  \n",
      "878     Likely_pathogenic  Peroxisome_biogenesis_disorder_6A|Peroxisome_b...  \n",
      "881            Pathogenic  Peroxisome_biogenesis_disorder_6A|Peroxisome_b...  \n",
      "884            Pathogenic  Peroxisome_biogenesis_disorder,_complementatio...  \n",
      "885     Likely_pathogenic  Peroxisome_biogenesis_disorder_6A|Peroxisome_b...  \n",
      "895     Likely_pathogenic  Peroxisome_biogenesis_disorder_6A|Peroxisome_b...  \n",
      "\n",
      "[100 rows x 6 columns]\n"
     ]
    }
   ],
   "source": [
    "# 4) Your code here - can use as many code blocks as you would like\n",
    "import pandas as pd\n",
    "import matplotlib.pyplot as plt\n",
    "\n",
    "# Parse the ClinVar data file\n",
    "def parse_clinvar_data(file_path):\n",
    "    gene_names = []\n",
    "    mutation_ids = []\n",
    "    mutation_positions = []\n",
    "    mutation_values = []\n",
    "    clinical_significances = []\n",
    "    diseases_implicated = []\n",
    "\n",
    "    # Open the ClinVar text file\n",
    "    with open(file_path, 'r') as file:\n",
    "        for line in file:\n",
    "            # Skip comment lines, empty lines, and the header row\n",
    "            if line.startswith('#') or line.strip() == '' or line.startswith('CHROM'):\n",
    "                continue\n",
    "            \n",
    "            # Split the line into fields using tab ('\\t') as the delimiter\n",
    "            fields = line.strip().split('\\t')\n",
    "            chrom = fields[0]\n",
    "            pos = fields[1]\n",
    "            mutation_id = fields[2]\n",
    "            ref = fields[3]\n",
    "            alt = fields[4]\n",
    "            info = fields[7]\n",
    "\n",
    "            # Parse the INFO field to extract relevant information\n",
    "            info_fields = {}\n",
    "            for field in info.split(';'):\n",
    "                key_value_pair = field.split('=')\n",
    "                if len(key_value_pair) == 2:\n",
    "                    key, value = key_value_pair\n",
    "                    info_fields[key] = value\n",
    "\n",
    "            # Extract gene name, clinical significance, and disease information\n",
    "            gene_info = info_fields.get('GENEINFO', 'Not_Given')\n",
    "            clnsig = info_fields.get('CLNSIG', 'Not_Given')\n",
    "            clndn = info_fields.get('CLNDN', 'Not_Given')\n",
    "\n",
    "            gene_names.append(gene_info.split(':')[0])  # Extract only the gene name\n",
    "            mutation_ids.append(mutation_id)\n",
    "            mutation_positions.append(f'{chrom}:{pos}')\n",
    "            mutation_values.append(f'{ref}>{alt}')\n",
    "            clinical_significances.append(clnsig)\n",
    "            diseases_implicated.append(clndn)\n",
    "\n",
    "    data = {\n",
    "        'Gene Name': gene_names,\n",
    "        'Mutation ID': mutation_ids,\n",
    "        'Mutation Position': mutation_positions,\n",
    "        'Mutation Value': mutation_values,\n",
    "        'Clinical Significance': clinical_significances,\n",
    "        'Disease Implicated': diseases_implicated\n",
    "    }\n",
    "    df = pd.DataFrame(data)\n",
    "\n",
    "    # Replace missing values with 'Not_Given'\n",
    "    df.fillna('Not_Given', inplace=True)\n",
    "\n",
    "    return df\n",
    "\n",
    "\n",
    "\n",
    "file_path = 'clinvar_final.txt'\n",
    "\n",
    "clinvar_df = parse_clinvar_data(file_path)\n",
    "\n",
    "# Display value counts for 'Clinical Significance', including counts of 'Not_Given'\n",
    "clinical_significance_counts = clinvar_df['Clinical Significance'].value_counts()\n",
    "print(\"\\nValue Counts for 'Clinical Significance' (including 'Not_Given'):\")\n",
    "print(clinical_significance_counts)\n",
    "\n",
    "\n",
    "# Count total harmful mutations\n",
    "total_harmful_mutations = clinvar_df.shape[0]\n",
    "\n",
    "print(\"\\nTotal harmful muations: \", total_harmful_mutations)\n",
    "\n",
    "dangerous_mutations_df = clinvar_df[clinvar_df['Clinical Significance'].isin(['Pathogenic', 'Likely_pathogenic'])]\n",
    "\n",
    "dangerous_mutations_df = dangerous_mutations_df.head(100)\n",
    "\n",
    "print(\"\\nDataFrame with Dangerous Mutations:\")\n",
    "print(dangerous_mutations_df)\n"
   ]
  },
  {
   "cell_type": "code",
   "execution_count": 13,
   "metadata": {},
   "outputs": [
    {
     "data": {
      "text/html": [
       "<div>\n",
       "<style scoped>\n",
       "    .dataframe tbody tr th:only-of-type {\n",
       "        vertical-align: middle;\n",
       "    }\n",
       "\n",
       "    .dataframe tbody tr th {\n",
       "        vertical-align: top;\n",
       "    }\n",
       "\n",
       "    .dataframe thead th {\n",
       "        text-align: right;\n",
       "    }\n",
       "</style>\n",
       "<table border=\"1\" class=\"dataframe\">\n",
       "  <thead>\n",
       "    <tr style=\"text-align: right;\">\n",
       "      <th></th>\n",
       "      <th>Disease Implicated</th>\n",
       "      <th>num_disease</th>\n",
       "    </tr>\n",
       "  </thead>\n",
       "  <tbody>\n",
       "    <tr>\n",
       "      <th>16</th>\n",
       "      <td>Not_Given</td>\n",
       "      <td>14</td>\n",
       "    </tr>\n",
       "    <tr>\n",
       "      <th>20</th>\n",
       "      <td>Robinow_syndrome,_autosomal_dominant_2</td>\n",
       "      <td>13</td>\n",
       "    </tr>\n",
       "    <tr>\n",
       "      <th>18</th>\n",
       "      <td>Peroxisome_biogenesis_disorder_6A|Peroxisome_b...</td>\n",
       "      <td>11</td>\n",
       "    </tr>\n",
       "    <tr>\n",
       "      <th>21</th>\n",
       "      <td>Shprintzen-Goldberg_syndrome</td>\n",
       "      <td>11</td>\n",
       "    </tr>\n",
       "    <tr>\n",
       "      <th>23</th>\n",
       "      <td>Spondyloepimetaphyseal_dysplasia_with_joint_la...</td>\n",
       "      <td>7</td>\n",
       "    </tr>\n",
       "    <tr>\n",
       "      <th>1</th>\n",
       "      <td>Congenital_myasthenic_syndrome</td>\n",
       "      <td>5</td>\n",
       "    </tr>\n",
       "    <tr>\n",
       "      <th>4</th>\n",
       "      <td>Ehlers-Danlos_syndrome,_progeroid_type,_2</td>\n",
       "      <td>5</td>\n",
       "    </tr>\n",
       "    <tr>\n",
       "      <th>22</th>\n",
       "      <td>Spinocerebellar_ataxia_21</td>\n",
       "      <td>5</td>\n",
       "    </tr>\n",
       "    <tr>\n",
       "      <th>9</th>\n",
       "      <td>Inborn_genetic_diseases</td>\n",
       "      <td>4</td>\n",
       "    </tr>\n",
       "    <tr>\n",
       "      <th>8</th>\n",
       "      <td>Immunodeficiency_38_with_basal_ganglia_calcifi...</td>\n",
       "      <td>3</td>\n",
       "    </tr>\n",
       "    <tr>\n",
       "      <th>24</th>\n",
       "      <td>Spondyloepimetaphyseal_dysplasia_with_joint_la...</td>\n",
       "      <td>3</td>\n",
       "    </tr>\n",
       "    <tr>\n",
       "      <th>2</th>\n",
       "      <td>Congenital_myasthenic_syndrome|Myasthenic_synd...</td>\n",
       "      <td>3</td>\n",
       "    </tr>\n",
       "    <tr>\n",
       "      <th>11</th>\n",
       "      <td>Mental_retardation,_autosomal_dominant_42</td>\n",
       "      <td>2</td>\n",
       "    </tr>\n",
       "    <tr>\n",
       "      <th>5</th>\n",
       "      <td>Harel-Yoon_syndrome</td>\n",
       "      <td>2</td>\n",
       "    </tr>\n",
       "    <tr>\n",
       "      <th>17</th>\n",
       "      <td>Peroxisome_biogenesis_disorder,_complementatio...</td>\n",
       "      <td>1</td>\n",
       "    </tr>\n",
       "    <tr>\n",
       "      <th>19</th>\n",
       "      <td>Peroxisome_biogenesis_disorder_6B</td>\n",
       "      <td>1</td>\n",
       "    </tr>\n",
       "    <tr>\n",
       "      <th>0</th>\n",
       "      <td>Abnormality_of_brain_morphology</td>\n",
       "      <td>1</td>\n",
       "    </tr>\n",
       "    <tr>\n",
       "      <th>13</th>\n",
       "      <td>Neurodevelopmental_Disability|hypotonia|Cleft_...</td>\n",
       "      <td>1</td>\n",
       "    </tr>\n",
       "    <tr>\n",
       "      <th>15</th>\n",
       "      <td>Neurodevelopmental_Disability|hypotonia|Strabi...</td>\n",
       "      <td>1</td>\n",
       "    </tr>\n",
       "    <tr>\n",
       "      <th>14</th>\n",
       "      <td>Neurodevelopmental_Disability|hypotonia|Seizur...</td>\n",
       "      <td>1</td>\n",
       "    </tr>\n",
       "    <tr>\n",
       "      <th>12</th>\n",
       "      <td>Myasthenic_syndrome,_congenital,_8</td>\n",
       "      <td>1</td>\n",
       "    </tr>\n",
       "    <tr>\n",
       "      <th>10</th>\n",
       "      <td>Inborn_genetic_diseases|Shprintzen-Goldberg_sy...</td>\n",
       "      <td>1</td>\n",
       "    </tr>\n",
       "    <tr>\n",
       "      <th>7</th>\n",
       "      <td>Immunodeficiency_16</td>\n",
       "      <td>1</td>\n",
       "    </tr>\n",
       "    <tr>\n",
       "      <th>6</th>\n",
       "      <td>Harel-Yoon_syndrome|not_provided</td>\n",
       "      <td>1</td>\n",
       "    </tr>\n",
       "    <tr>\n",
       "      <th>3</th>\n",
       "      <td>Disproportionate_tall_stature</td>\n",
       "      <td>1</td>\n",
       "    </tr>\n",
       "    <tr>\n",
       "      <th>25</th>\n",
       "      <td>Zellweger_syndrome|Peroxisome_biogenesis_disor...</td>\n",
       "      <td>1</td>\n",
       "    </tr>\n",
       "  </tbody>\n",
       "</table>\n",
       "</div>"
      ],
      "text/plain": [
       "                                   Disease Implicated  num_disease\n",
       "16                                          Not_Given           14\n",
       "20             Robinow_syndrome,_autosomal_dominant_2           13\n",
       "18  Peroxisome_biogenesis_disorder_6A|Peroxisome_b...           11\n",
       "21                       Shprintzen-Goldberg_syndrome           11\n",
       "23  Spondyloepimetaphyseal_dysplasia_with_joint_la...            7\n",
       "1                      Congenital_myasthenic_syndrome            5\n",
       "4           Ehlers-Danlos_syndrome,_progeroid_type,_2            5\n",
       "22                          Spinocerebellar_ataxia_21            5\n",
       "9                             Inborn_genetic_diseases            4\n",
       "8   Immunodeficiency_38_with_basal_ganglia_calcifi...            3\n",
       "24  Spondyloepimetaphyseal_dysplasia_with_joint_la...            3\n",
       "2   Congenital_myasthenic_syndrome|Myasthenic_synd...            3\n",
       "11          Mental_retardation,_autosomal_dominant_42            2\n",
       "5                                 Harel-Yoon_syndrome            2\n",
       "17  Peroxisome_biogenesis_disorder,_complementatio...            1\n",
       "19                  Peroxisome_biogenesis_disorder_6B            1\n",
       "0                     Abnormality_of_brain_morphology            1\n",
       "13  Neurodevelopmental_Disability|hypotonia|Cleft_...            1\n",
       "15  Neurodevelopmental_Disability|hypotonia|Strabi...            1\n",
       "14  Neurodevelopmental_Disability|hypotonia|Seizur...            1\n",
       "12                 Myasthenic_syndrome,_congenital,_8            1\n",
       "10  Inborn_genetic_diseases|Shprintzen-Goldberg_sy...            1\n",
       "7                                 Immunodeficiency_16            1\n",
       "6                    Harel-Yoon_syndrome|not_provided            1\n",
       "3                       Disproportionate_tall_stature            1\n",
       "25  Zellweger_syndrome|Peroxisome_biogenesis_disor...            1"
      ]
     },
     "execution_count": 13,
     "metadata": {},
     "output_type": "execute_result"
    }
   ],
   "source": [
    "dangerous_mutations_df.groupby('Disease Implicated').size().reset_index(name='num_disease').sort_values(by='num_disease', ascending=False)"
   ]
  },
  {
   "cell_type": "markdown",
   "metadata": {
    "id": "QvWAQKYag7Tr"
   },
   "source": [
    "4) Please Write your assumptions here: Made the assumption that the dangerous/harmful mutation is pathogenic and likey_pathogenic from the clinical significance"
   ]
  },
  {
   "cell_type": "markdown",
   "metadata": {
    "id": "_r9uXf94g7Ts"
   },
   "source": [
    "4) Findings / What would you present to your boss?\n",
    "Robinow_syndrome, Peroxisome_biogenesis_disorder, Shprintzen-Goldberg_syndrome are the top 3 diseases implicated from the first 100 harmful mutations"
   ]
  }
 ],
 "metadata": {
  "colab": {
   "provenance": []
  },
  "kernelspec": {
   "display_name": "Python 3",
   "language": "python",
   "name": "python3"
  },
  "language_info": {
   "codemirror_mode": {
    "name": "ipython",
    "version": 3
   },
   "file_extension": ".py",
   "mimetype": "text/x-python",
   "name": "python",
   "nbconvert_exporter": "python",
   "pygments_lexer": "ipython3",
   "version": "3.7.3"
  }
 },
 "nbformat": 4,
 "nbformat_minor": 1
}
