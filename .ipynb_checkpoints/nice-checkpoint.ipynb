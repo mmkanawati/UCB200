{
 "cells": [
  {
   "cell_type": "code",
   "execution_count": 31,
   "metadata": {},
   "outputs": [],
   "source": [
    "from wordscore import score_word, find_valid_words\n",
    "import itertools\n",
    "import time"
   ]
  },
  {
   "cell_type": "code",
   "execution_count": 33,
   "metadata": {},
   "outputs": [],
   "source": [
    "def score_word(word):\n",
    "    score = 0\n",
    "    word = word.lower()\n",
    "    #print(word)\n",
    "    \n",
    "    scores = {\"a\": 1, \"c\": 3, \"b\": 3, \"e\": 1, \"d\": 2, \"g\": 2, \n",
    "              \"f\": 4, \"i\": 1, \"h\": 4, \"k\": 5, \"j\": 8, \"m\": 3,\n",
    "              \"l\": 1, \"o\": 1, \"n\": 1, \"q\": 10, \"p\": 3, \"s\": 1,\n",
    "              \"r\": 1, \"u\": 1, \"t\": 1, \"w\": 4, \"v\": 4, \"y\": 4,\n",
    "              \"x\": 8, \"z\": 10}\n",
    "    \n",
    "    for i in word:\n",
    "        if i in scores:\n",
    "            score += scores[i]\n",
    "    \n",
    "    return score"
   ]
  },
  {
   "cell_type": "code",
   "execution_count": 97,
   "metadata": {},
   "outputs": [],
   "source": [
    "def find_valid_words(rack, word_list):\n",
    "    valid_words = []\n",
    "\n",
    "    # Convert rack to a list to make removal of used letters easier\n",
    "    rack_list = list(rack)\n",
    "\n",
    "    # Iterate through each word in the word list\n",
    "    for word in word_list:\n",
    "        # Create a copy of the rack for each word\n",
    "        rack_copy = rack_list[:]\n",
    "        # Flag to track if the word can be formed from the rack\n",
    "        can_form_word = True\n",
    "        # Iterate through each letter in the word\n",
    "        for letter in word:\n",
    "            # Check if the letter is in the rack\n",
    "            if letter in rack_copy:\n",
    "                # Remove the letter from the rack to handle repeat letters\n",
    "                rack_copy.remove(letter)\n",
    "            else:\n",
    "                # If the letter is not in the rack, mark the word as unable to form\n",
    "                can_form_word = False\n",
    "                break  # No need to continue checking the rest of the letters\n",
    "        # If all letters in the word are found in the rack, add the word to the valid_words list\n",
    "        if can_form_word:\n",
    "            valid_words.append(word)\n",
    "\n",
    "    return valid_words"
   ]
  },
  {
   "cell_type": "code",
   "execution_count": 164,
   "metadata": {},
   "outputs": [],
   "source": [
    "def run_scrabble(character):\n",
    "    \n",
    "    \n",
    "    \n",
    "    with open(\"sowpods.txt\",\"r\") as infile:\n",
    "        raw_input = infile.readlines()\n",
    "        data = [datum.strip('\\n') for datum in raw_input]\n",
    "        \n",
    "    character = character.upper()\n",
    "    valid = []            #valid scrabble words (score, word)\n",
    "    total_number = 0\n",
    "    \n",
    "    wildcard = 'ABCDEFGHIJKLMNOPQRSTUVWXYZ'\n",
    "    wildcards = character.count('*') + character.count('?')\n",
    "    without_wild = character.replace('*', '').replace('?', '')\n",
    "    \n",
    "    if len(character) > 7 or len(character) < 2:\n",
    "        return \"The input is not 2-7 characters\"\n",
    "    if not without_wild.isalpha() and len(without_wild) != 0:\n",
    "        return \"The input should only be letters\"\n",
    "    if character.count('*') + character.count('?') > 2:\n",
    "        return \"The number of wildcards are greater than 2\"\n",
    "    \n",
    "    for i in range(wildcards + 1):\n",
    "        \n",
    "        if wildcards > 0:\n",
    "            for letter in wildcard:\n",
    "                temp = character.replace('*', letter).replace('?', letter)\n",
    "                valid_words = find_valid_words(temp, data)\n",
    "                for word in valid_words:\n",
    "                    score = score_word(without_wild)\n",
    "                    if not word in valid:\n",
    "                        valid.append((score, word))\n",
    "                    total_number += 1\n",
    "            wildcards -= 1\n",
    "            if wildcards == 0:\n",
    "                break\n",
    "\n",
    "        \n",
    "        else:\n",
    "            valid_words = find_valid_words(character, data)\n",
    "            for word in valid_words:\n",
    "            #print(word)\n",
    "                score = score_word(word)\n",
    "                valid.append((score, word))\n",
    "                total_number += 1\n",
    "    \n",
    "    if character.count('*') + character.count('?') > 0 and len(find_valid_words(without_wild, data)) > 0: \n",
    "        word_scores = find_valid_words(without_wild, data)\n",
    "        higher = 0\n",
    "        higher_word = ''\n",
    "        for score, word in word_scores:\n",
    "            if score > higher:\n",
    "                higher_word = word\n",
    "                higher = score\n",
    "                \n",
    "        return f\"[({higher}, {higher_word})]\", total_number\n",
    "    \n",
    "    \n",
    "    else:\n",
    "        valid.sort(key=lambda x: (-x[0], x[1]))\n",
    "        return valid, total_number"
   ]
  },
  {
   "cell_type": "code",
   "execution_count": 166,
   "metadata": {},
   "outputs": [
    {
     "name": "stdout",
     "output_type": "stream",
     "text": [
      "[(5, 'IF')] 1\n",
      "0.22927021980285645\n"
     ]
    }
   ],
   "source": [
    "start_time = time.time()\n",
    "x,y = run_scrabble(\"IF\")\n",
    "print(x, y)\n",
    "end_time = time.time()\n",
    "exection_time = end_time - start_time\n",
    "print(exection_time)"
   ]
  },
  {
   "cell_type": "code",
   "execution_count": 51,
   "metadata": {},
   "outputs": [
    {
     "data": {
      "text/plain": [
       "'\\nwith open(\"sowpods.txt\",\"r\") as infile:\\n    raw_input = infile.readlines()\\n    data = [datum.strip(\\'\\n\\') for datum in raw_input]\\n'"
      ]
     },
     "execution_count": 51,
     "metadata": {},
     "output_type": "execute_result"
    }
   ],
   "source": [
    "'''\n",
    "with open(\"sowpods.txt\",\"r\") as infile:\n",
    "    raw_input = infile.readlines()\n",
    "    data = [datum.strip('\\n') for datum in raw_input]\n",
    "'''"
   ]
  },
  {
   "cell_type": "code",
   "execution_count": 52,
   "metadata": {},
   "outputs": [],
   "source": [
    "#print(data[0:6])"
   ]
  }
 ],
 "metadata": {
  "kernelspec": {
   "display_name": "Python 3",
   "language": "python",
   "name": "python3"
  },
  "language_info": {
   "codemirror_mode": {
    "name": "ipython",
    "version": 3
   },
   "file_extension": ".py",
   "mimetype": "text/x-python",
   "name": "python",
   "nbconvert_exporter": "python",
   "pygments_lexer": "ipython3",
   "version": "3.7.3"
  }
 },
 "nbformat": 4,
 "nbformat_minor": 2
}
